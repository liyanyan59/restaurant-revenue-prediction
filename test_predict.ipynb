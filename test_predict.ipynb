{
 "cells": [
  {
   "cell_type": "code",
   "execution_count": 9,
   "metadata": {},
   "outputs": [
    {
     "name": "stdout",
     "output_type": "stream",
     "text": [
      "['.ipynb_checkpoints', 'restaurant-revenue-prediction.zip', 'test.csv', 'test_predict.ipynb', 'train.csv']\n"
     ]
    },
    {
     "name": "stderr",
     "output_type": "stream",
     "text": [
      "e:\\python\\lib\\site-packages\\sklearn\\ensemble\\weight_boosting.py:29: DeprecationWarning: numpy.core.umath_tests is an internal NumPy module and should not be imported. It will be removed in a future NumPy release.\n",
      "  from numpy.core.umath_tests import inner1d\n"
     ]
    }
   ],
   "source": [
    "%matplotlib inline\n",
    "import numpy as np # linear algebra\n",
    "import pandas as pd # data processing, CSV file I/O (e.g. pd.read_csv)\n",
    "# from fastai.structured import *\n",
    "import matplotlib.pyplot as plt\n",
    "from sklearn.metrics import mean_squared_error\n",
    "from math import sqrt\n",
    "from sklearn.ensemble import RandomForestRegressor\n",
    "from IPython.core.debugger import set_trace\n",
    "from sklearn.model_selection import KFold\n",
    "\n",
    "import os\n",
    "print(os.listdir(\"./\"))\n",
    "PATH = \"./\"\n"
   ]
  },
  {
   "cell_type": "code",
   "execution_count": 10,
   "metadata": {
    "scrolled": true
   },
   "outputs": [],
   "source": [
    "# parse_dates是将日期类的数据解析成日期类型\n",
    "df_train = pd.read_csv(f'{PATH}train.csv', parse_dates=['Open Date'])\n",
    "df_test = pd.read_csv(f'{PATH}test.csv', parse_dates=['Open Date'])\n",
    "\n",
    "df_joined = pd.concat([df_train.drop('revenue', axis=1), df_test], axis=0)  # 合并数据集"
   ]
  },
  {
   "cell_type": "code",
   "execution_count": 26,
   "metadata": {
    "scrolled": true
   },
   "outputs": [],
   "source": [
    "def score(model, X_train, y_train, X_valid = [], y_valid = []):  # 计算得分  均方误差\n",
    "    #set_trace()\n",
    "    rms = sqrt(mean_squared_error(np.square(np.exp(y_train)), np.square(np.exp(model.predict(X_train)))))\n",
    "    score = [rms, model.score(X_train, y_train)]\n",
    "    \n",
    "    if len(X_valid) != 0 and len(y_valid) != 0:\n",
    "        score.append(sqrt(mean_squared_error(np.square(np.exp(y_valid)), np.square(np.exp(model.predict(X_valid))))))\n",
    "        \n",
    "    if model.oob_score:   \n",
    "        '''\n",
    "        oob_score:袋外估计(out-of-bag)，这个外是针对于bagging这个袋子而言的，\n",
    "        我们知道，bagging采取的随机抽样的方式去建立树模型，那么那些未被抽取到的样本集，\n",
    "        也就是未参与建立树模型的数据集就是袋外数据集，我们就可以用这部分数据集去验证模型效果，默认值为False。\n",
    "        '''\n",
    "        score.append(model.oob_score_)\n",
    "    \n",
    "    return score\n",
    "\n",
    "n_train = df_train.shape[0]\n",
    "\n",
    "def prcs(df, fe=[]):\n",
    "#     add_datepart(df, 'Open Date')  # 这是个将日期转化成数值型的linux函数,换下面的函数\n",
    "    from datetime import datetime\n",
    "    df['age'] = (datetime.now() - df['Open Date']).astype('timedelta64[D]') / 365\n",
    "    df = df.drop('Open Date', axis=1) # axis=1删除列\n",
    "    \n",
    "    if 'city' in fe:\n",
    "        df = df.drop('City', axis=1)\n",
    "    # Quitamos el outlier (16)  # 删除某一列有异常值的那一行\n",
    "    if 'outlier' in fe:\n",
    "        df = df.drop(index=16, axis=0)\n",
    "    \n",
    "    if 'MB' in fe:\n",
    "        # No hay apenas tipo 'MB'\n",
    "        df['Type'] = df['Type'].replace('MB', 'DT')\n",
    "    \n",
    "    if 'city_group' in fe:\n",
    "        df = df.drop('City Group', axis=1)\n",
    "    \n",
    "    if 'dummies' in fe:\n",
    "        #Get dummies\n",
    "        p_cols = [ f'P{n}' for n in range(1,38)]\n",
    "            \n",
    "        df = pd.get_dummies(df, columns=p_cols)   # 对P1-P37列进行独热编码   其实可以用LabelEncoder\n",
    "        if 'city_group' not in fe:\n",
    "            df = pd.get_dummies(df, columns=['City Group'], drop_first=True)\n",
    "        df = pd.get_dummies(df, columns=['Type'])\n",
    "    \n",
    "    #Train cats  将类别转换为数字\n",
    "#     train_cats(df)  函数不可用!!下面替换\n",
    "    from sklearn.preprocessing import LabelEncoder\n",
    "    le = LabelEncoder()\n",
    "    for col in df:\n",
    "        if df.dtypes[col] == 'object':\n",
    "            df[col] = le.fit_transform(df[col].values)  # 润佳  我真是太厉害了\n",
    "    \n",
    "    \n",
    "#     X, _, _ = proc_df(df, None)  # 没有缺失 用不了fastai  弃掉  用以上函数代替\n",
    "    '''\n",
    "    可调用proc_df函数将所有分类数据转换为整数代码\n",
    "    该函数执行以下任务：\n",
    "    1. 对于连续变量，它检查列是否存在缺失值；\n",
    "    2. 如果列有缺失值，则创建另一列名为 columnname_na，1代表有缺失值，0代表没有缺失值；\n",
    "    3. 同时，缺失值被列的中值所代替；\n",
    "    4. 对于分类变量，Pandas 用-1替换缺失值。因此，proc_df 为分类变量的所有值增加了1。因此，我们0代表缺失值，而所有其他值都递增1。\n",
    "    \n",
    "    返回  df, y, nas = proc_df(df_raw, 'SalePrice')\n",
    "    '''\n",
    "    \n",
    "    X = df.copy()  # 上面的函数不可用   直接copy\n",
    "    \n",
    "    #  日期处理直接用数值代替了 这些参数列可能是add_datepart函数生成\n",
    "#     drop_cols = ['Open Year', 'Open Month', 'Open Week', 'Open Day', 'Open Dayofweek',\n",
    "#        'Open Dayofyear', 'Open Is_month_end', 'Open Is_month_start',\n",
    "#        'Open Is_quarter_end', 'Open Is_quarter_start', 'Open Is_year_end',\n",
    "#        'Open Is_year_start']\n",
    "    \n",
    "#     X = X.drop(drop_cols, axis=1)\n",
    "    # La columna Id no aporta nada  Id列不会添加任何内容\n",
    "    if 'id' in fe:\n",
    "        X = X.drop('Id', axis=1)\n",
    "    \n",
    "    if 'scale_open' in fe:  # 不知道干嘛的\n",
    "        X['Open Elapsed'] = (X['Open Elapsed']/1000).apply(np.log)\n",
    "    \n",
    "    X_train = X[:n_train]\n",
    "    X_test = X[n_train:]   # 把数据集合在一起又分开???\n",
    "    \n",
    "    return X_train, X_test\n",
    "\n",
    "def train_cv(X, y):\n",
    "    models = []\n",
    "    scores = []\n",
    "    \n",
    "    kf = KFold(n_splits=4, random_state=12, shuffle=False)  # 拆分为k个连续折叠\n",
    "    for train_index, val_index in kf.split(X):\n",
    "        X_train_ = X.iloc[train_index]  # iloc行切片 loc列切片\n",
    "        y_train_ = y.iloc[train_index]\n",
    "        X_val_ = X.iloc[val_index]\n",
    "        y_val_ = y.iloc[val_index]\n",
    "        m = RandomForestRegressor(n_jobs=-1, n_estimators=100, max_features=0.5, oob_score=True)\n",
    "        m.fit(X_train_, y_train_)\n",
    "        models.append(m)\n",
    "        scores.append(score(m, X_train_, y_train_, X_val_, y_val_))\n",
    "        \n",
    "    return models, np.array(scores).mean(axis=0)\n",
    "\n",
    "def predict(models, X):\n",
    "    f = 1 / len(models)\n",
    "    pred = 0\n",
    "    for m in models:\n",
    "        pred += f * m.predict(X)\n",
    "    \n",
    "    return pred"
   ]
  },
  {
   "cell_type": "code",
   "execution_count": 27,
   "metadata": {},
   "outputs": [
    {
     "name": "stdout",
     "output_type": "stream",
     "text": [
      "   Id  City  City Group  Type  P1   P2   P3   P4  P5  P6    ...      P29  P30  \\\n",
      "0   0    60           0     2   4  5.0  4.0  4.0   2   2    ...      3.0    5   \n",
      "1   1     4           0     1   4  5.0  4.0  4.0   1   2    ...      3.0    0   \n",
      "2   2    14           1     2   2  4.0  2.0  5.0   2   3    ...      3.0    0   \n",
      "3   3    52           1     2   6  4.5  6.0  6.0   4   4    ...      7.5   25   \n",
      "4   4    21           1     2   3  4.0  3.0  4.0   2   2    ...      3.0    5   \n",
      "\n",
      "   P31  P32  P33  P34  P35  P36  P37        age  \n",
      "0    3    4    5    5    4    3    4  19.723288  \n",
      "1    0    0    0    0    0    0    0  11.136986  \n",
      "2    0    0    0    0    0    0    0   6.068493  \n",
      "3   12   10    6   18   12   12    6   7.167123  \n",
      "4    1    3    2    3    4    3    3   9.904110  \n",
      "\n",
      "[5 rows x 42 columns]\n",
      "   Id  City  City Group  Type  P1   P2   P3   P4  P5  P6    ...     P29  P30  \\\n",
      "0   0    42           1     1   1  4.0  4.0  4.0   1   2    ...     3.0    0   \n",
      "1   1    31           1     2   3  4.0  4.0  4.0   2   2    ...     3.0    0   \n",
      "2   2     4           0     1   3  4.0  4.0  4.0   2   2    ...     3.0    0   \n",
      "3   3    30           1     2   2  4.0  4.0  4.0   2   3    ...     3.0    0   \n",
      "4   4     1           1     1   2  4.0  4.0  4.0   1   2    ...     3.0    0   \n",
      "\n",
      "   P31  P32  P33  P34  P35  P36  P37       age  \n",
      "0    0    0    0    0    0    0    0  8.197260  \n",
      "1    0    0    0    0    0    0    0  8.046575  \n",
      "2    0    0    0    0    0    0    0  5.424658  \n",
      "3    4    0    0    0    0    0    0  5.909589  \n",
      "4    0    0    0    0    0    0    0  5.673973  \n",
      "\n",
      "[5 rows x 42 columns]\n",
      "0    15.547830\n",
      "1    15.750379\n",
      "2    14.535971\n",
      "3    14.799651\n",
      "4    15.278005\n",
      "Name: revenue, dtype: float64\n"
     ]
    }
   ],
   "source": [
    "X_train, X_test = prcs(df_joined.copy())   # 特征工程  数据处理\n",
    "y_train = df_train['revenue'].copy().apply(np.log)   # 降一个指数级\n",
    "print(X_train.head())\n",
    "print(X_test.head())\n",
    "print(y_train.head())\n"
   ]
  },
  {
   "cell_type": "code",
   "execution_count": 28,
   "metadata": {},
   "outputs": [
    {
     "data": {
      "text/plain": [
       "[25503611687854.47, 0.8911943504238528, 0.21315821624242037]"
      ]
     },
     "execution_count": 28,
     "metadata": {},
     "output_type": "execute_result"
    }
   ],
   "source": [
    "m = RandomForestRegressor(n_jobs=-1, n_estimators=150, oob_score=True, max_features=0.5)\n",
    "m.fit(X_train, y_train)\n",
    "score(m,X_train, y_train)"
   ]
  },
  {
   "cell_type": "code",
   "execution_count": 29,
   "metadata": {},
   "outputs": [
    {
     "data": {
      "text/html": [
       "<div>\n",
       "<style scoped>\n",
       "    .dataframe tbody tr th:only-of-type {\n",
       "        vertical-align: middle;\n",
       "    }\n",
       "\n",
       "    .dataframe tbody tr th {\n",
       "        vertical-align: top;\n",
       "    }\n",
       "\n",
       "    .dataframe thead th {\n",
       "        text-align: right;\n",
       "    }\n",
       "</style>\n",
       "<table border=\"1\" class=\"dataframe\">\n",
       "  <thead>\n",
       "    <tr style=\"text-align: right;\">\n",
       "      <th></th>\n",
       "      <th>Prediction</th>\n",
       "    </tr>\n",
       "  </thead>\n",
       "  <tbody>\n",
       "    <tr>\n",
       "      <th>0</th>\n",
       "      <td>4.227426e+06</td>\n",
       "    </tr>\n",
       "    <tr>\n",
       "      <th>1</th>\n",
       "      <td>3.397814e+06</td>\n",
       "    </tr>\n",
       "    <tr>\n",
       "      <th>2</th>\n",
       "      <td>3.134618e+06</td>\n",
       "    </tr>\n",
       "    <tr>\n",
       "      <th>3</th>\n",
       "      <td>2.915595e+06</td>\n",
       "    </tr>\n",
       "    <tr>\n",
       "      <th>4</th>\n",
       "      <td>3.311017e+06</td>\n",
       "    </tr>\n",
       "  </tbody>\n",
       "</table>\n",
       "</div>"
      ],
      "text/plain": [
       "     Prediction\n",
       "0  4.227426e+06\n",
       "1  3.397814e+06\n",
       "2  3.134618e+06\n",
       "3  2.915595e+06\n",
       "4  3.311017e+06"
      ]
     },
     "execution_count": 29,
     "metadata": {},
     "output_type": "execute_result"
    }
   ],
   "source": [
    "df_preds = pd.DataFrame(columns=['Prediction'],index=X_test.index, data=np.exp(predict(m, X_test)))\n",
    "# df_preds.to_csv('submission0.csv', index=True, index_label='Id')  # 先不生成文件, 先注释\n",
    "df_preds.head()"
   ]
  },
  {
   "cell_type": "markdown",
   "metadata": {},
   "source": [
    "# 以上是生成的第一个版本  RMSE 1.92 M (Rank 1600)"
   ]
  },
  {
   "cell_type": "markdown",
   "metadata": {},
   "source": [
    "# 以下是  Cross-validation y Ensembling  交叉验证 "
   ]
  },
  {
   "cell_type": "code",
   "execution_count": 32,
   "metadata": {},
   "outputs": [
    {
     "name": "stdout",
     "output_type": "stream",
     "text": [
      "[2.67327558e+13 8.93193976e-01 3.83615815e+13 1.84830796e-01]\n"
     ]
    }
   ],
   "source": [
    "models, scores = train_cv(X_train, y_train)   # 用上面写好的cv函数交叉验证\n",
    "print(scores)"
   ]
  },
  {
   "cell_type": "code",
   "execution_count": 33,
   "metadata": {},
   "outputs": [
    {
     "data": {
      "text/html": [
       "<div>\n",
       "<style scoped>\n",
       "    .dataframe tbody tr th:only-of-type {\n",
       "        vertical-align: middle;\n",
       "    }\n",
       "\n",
       "    .dataframe tbody tr th {\n",
       "        vertical-align: top;\n",
       "    }\n",
       "\n",
       "    .dataframe thead th {\n",
       "        text-align: right;\n",
       "    }\n",
       "</style>\n",
       "<table border=\"1\" class=\"dataframe\">\n",
       "  <thead>\n",
       "    <tr style=\"text-align: right;\">\n",
       "      <th></th>\n",
       "      <th>Prediction</th>\n",
       "    </tr>\n",
       "  </thead>\n",
       "  <tbody>\n",
       "    <tr>\n",
       "      <th>0</th>\n",
       "      <td>4.028657e+06</td>\n",
       "    </tr>\n",
       "    <tr>\n",
       "      <th>1</th>\n",
       "      <td>3.459114e+06</td>\n",
       "    </tr>\n",
       "    <tr>\n",
       "      <th>2</th>\n",
       "      <td>2.917636e+06</td>\n",
       "    </tr>\n",
       "    <tr>\n",
       "      <th>3</th>\n",
       "      <td>2.997049e+06</td>\n",
       "    </tr>\n",
       "    <tr>\n",
       "      <th>4</th>\n",
       "      <td>3.167410e+06</td>\n",
       "    </tr>\n",
       "  </tbody>\n",
       "</table>\n",
       "</div>"
      ],
      "text/plain": [
       "     Prediction\n",
       "0  4.028657e+06\n",
       "1  3.459114e+06\n",
       "2  2.917636e+06\n",
       "3  2.997049e+06\n",
       "4  3.167410e+06"
      ]
     },
     "execution_count": 33,
     "metadata": {},
     "output_type": "execute_result"
    }
   ],
   "source": [
    "df_preds = pd.DataFrame(columns=['Prediction'],index=X_test.index, data=np.exp(predict(models, X_test)))\n",
    "# df_preds.to_csv('submission1.csv', index=True, index_label='Id')\n",
    "df_preds.head()"
   ]
  },
  {
   "cell_type": "markdown",
   "metadata": {},
   "source": [
    "# 特征处理"
   ]
  },
  {
   "cell_type": "markdown",
   "metadata": {},
   "source": [
    "## 删除ID列"
   ]
  },
  {
   "cell_type": "code",
   "execution_count": 34,
   "metadata": {},
   "outputs": [],
   "source": [
    "X_train, X_test = prcs(df_joined.copy(), fe=['id'])\n",
    "\n",
    "# 双重转换使分布正常\n",
    "y_train = df_train['revenue'].copy().apply(np.sqrt).apply(np.log)"
   ]
  },
  {
   "cell_type": "code",
   "execution_count": 35,
   "metadata": {},
   "outputs": [
    {
     "name": "stdout",
     "output_type": "stream",
     "text": [
      "[1.12411971e+06 8.87824238e-01 2.33226764e+06 1.87966187e-01]\n"
     ]
    }
   ],
   "source": [
    "models, scores = train_cv(X_train, y_train)\n",
    "print(scores)"
   ]
  },
  {
   "cell_type": "code",
   "execution_count": 36,
   "metadata": {},
   "outputs": [
    {
     "data": {
      "text/html": [
       "<div>\n",
       "<style scoped>\n",
       "    .dataframe tbody tr th:only-of-type {\n",
       "        vertical-align: middle;\n",
       "    }\n",
       "\n",
       "    .dataframe tbody tr th {\n",
       "        vertical-align: top;\n",
       "    }\n",
       "\n",
       "    .dataframe thead th {\n",
       "        text-align: right;\n",
       "    }\n",
       "</style>\n",
       "<table border=\"1\" class=\"dataframe\">\n",
       "  <thead>\n",
       "    <tr style=\"text-align: right;\">\n",
       "      <th></th>\n",
       "      <th>Prediction</th>\n",
       "    </tr>\n",
       "  </thead>\n",
       "  <tbody>\n",
       "    <tr>\n",
       "      <th>0</th>\n",
       "      <td>3.909989e+06</td>\n",
       "    </tr>\n",
       "    <tr>\n",
       "      <th>1</th>\n",
       "      <td>3.135632e+06</td>\n",
       "    </tr>\n",
       "    <tr>\n",
       "      <th>2</th>\n",
       "      <td>2.946801e+06</td>\n",
       "    </tr>\n",
       "    <tr>\n",
       "      <th>3</th>\n",
       "      <td>2.996367e+06</td>\n",
       "    </tr>\n",
       "    <tr>\n",
       "      <th>4</th>\n",
       "      <td>3.014844e+06</td>\n",
       "    </tr>\n",
       "  </tbody>\n",
       "</table>\n",
       "</div>"
      ],
      "text/plain": [
       "     Prediction\n",
       "0  3.909989e+06\n",
       "1  3.135632e+06\n",
       "2  2.946801e+06\n",
       "3  2.996367e+06\n",
       "4  3.014844e+06"
      ]
     },
     "execution_count": 36,
     "metadata": {},
     "output_type": "execute_result"
    }
   ],
   "source": [
    "df_preds = pd.DataFrame(columns=['Prediction'],index=X_test.index, data=np.square(np.exp(predict(models, X_test))))\n",
    "# df_preds.to_csv('submission2.csv', index=True, index_label='Id')\n",
    "df_preds.head()"
   ]
  },
  {
   "cell_type": "markdown",
   "metadata": {},
   "source": [
    "### RMSE 1.83 M (Rank 600)"
   ]
  },
  {
   "cell_type": "markdown",
   "metadata": {},
   "source": [
    "## 在分类变量中添加虚拟对象 (对P1-P37的独热处理)"
   ]
  },
  {
   "cell_type": "code",
   "execution_count": 37,
   "metadata": {},
   "outputs": [],
   "source": [
    "X_train, X_test = prcs(df_joined.copy(), fe=['id', 'dummies'])\n",
    "\n",
    "# 双重转换使分布正常\n",
    "y_train = df_train['revenue'].copy().apply(np.sqrt).apply(np.log)"
   ]
  },
  {
   "cell_type": "code",
   "execution_count": 38,
   "metadata": {},
   "outputs": [
    {
     "name": "stdout",
     "output_type": "stream",
     "text": [
      "[1.12161275e+06 8.84084122e-01 2.32751055e+06 1.35897967e-01]\n"
     ]
    }
   ],
   "source": [
    "models, scores = train_cv(X_train, y_train)\n",
    "print(scores)"
   ]
  },
  {
   "cell_type": "code",
   "execution_count": 39,
   "metadata": {},
   "outputs": [
    {
     "data": {
      "text/html": [
       "<div>\n",
       "<style scoped>\n",
       "    .dataframe tbody tr th:only-of-type {\n",
       "        vertical-align: middle;\n",
       "    }\n",
       "\n",
       "    .dataframe tbody tr th {\n",
       "        vertical-align: top;\n",
       "    }\n",
       "\n",
       "    .dataframe thead th {\n",
       "        text-align: right;\n",
       "    }\n",
       "</style>\n",
       "<table border=\"1\" class=\"dataframe\">\n",
       "  <thead>\n",
       "    <tr style=\"text-align: right;\">\n",
       "      <th></th>\n",
       "      <th>Prediction</th>\n",
       "    </tr>\n",
       "  </thead>\n",
       "  <tbody>\n",
       "    <tr>\n",
       "      <th>0</th>\n",
       "      <td>4.094807e+06</td>\n",
       "    </tr>\n",
       "    <tr>\n",
       "      <th>1</th>\n",
       "      <td>3.295021e+06</td>\n",
       "    </tr>\n",
       "    <tr>\n",
       "      <th>2</th>\n",
       "      <td>3.207968e+06</td>\n",
       "    </tr>\n",
       "    <tr>\n",
       "      <th>3</th>\n",
       "      <td>3.007144e+06</td>\n",
       "    </tr>\n",
       "    <tr>\n",
       "      <th>4</th>\n",
       "      <td>3.019662e+06</td>\n",
       "    </tr>\n",
       "  </tbody>\n",
       "</table>\n",
       "</div>"
      ],
      "text/plain": [
       "     Prediction\n",
       "0  4.094807e+06\n",
       "1  3.295021e+06\n",
       "2  3.207968e+06\n",
       "3  3.007144e+06\n",
       "4  3.019662e+06"
      ]
     },
     "execution_count": 39,
     "metadata": {},
     "output_type": "execute_result"
    }
   ],
   "source": [
    "df_preds = pd.DataFrame(columns=['Prediction'],index=X_test.index, data=np.square(np.exp(predict(models, X_test))))\n",
    "# df_preds.to_csv('submission3.csv', index=True, index_label='Id')\n",
    "df_preds.head()"
   ]
  },
  {
   "cell_type": "markdown",
   "metadata": {},
   "source": [
    "### RMSE 1.784 M (Rank 75)"
   ]
  },
  {
   "cell_type": "markdown",
   "metadata": {},
   "source": [
    "## 删除City列"
   ]
  },
  {
   "cell_type": "code",
   "execution_count": 40,
   "metadata": {},
   "outputs": [],
   "source": [
    "X_train, X_test = prcs(df_joined.copy(), fe=['id', 'dummies', 'city'])\n",
    "\n",
    "# Doble transformación para que la distribución sea Normal\n",
    "y_train = df_train['revenue'].copy().apply(np.sqrt).apply(np.log)"
   ]
  },
  {
   "cell_type": "code",
   "execution_count": 41,
   "metadata": {},
   "outputs": [
    {
     "name": "stdout",
     "output_type": "stream",
     "text": [
      "[1.15850224e+06 8.85687892e-01 2.38885301e+06 1.20374607e-01]\n"
     ]
    }
   ],
   "source": [
    "models, scores = train_cv(X_train, y_train)\n",
    "print(scores)"
   ]
  },
  {
   "cell_type": "code",
   "execution_count": 42,
   "metadata": {},
   "outputs": [
    {
     "data": {
      "text/html": [
       "<div>\n",
       "<style scoped>\n",
       "    .dataframe tbody tr th:only-of-type {\n",
       "        vertical-align: middle;\n",
       "    }\n",
       "\n",
       "    .dataframe tbody tr th {\n",
       "        vertical-align: top;\n",
       "    }\n",
       "\n",
       "    .dataframe thead th {\n",
       "        text-align: right;\n",
       "    }\n",
       "</style>\n",
       "<table border=\"1\" class=\"dataframe\">\n",
       "  <thead>\n",
       "    <tr style=\"text-align: right;\">\n",
       "      <th></th>\n",
       "      <th>Prediction</th>\n",
       "    </tr>\n",
       "  </thead>\n",
       "  <tbody>\n",
       "    <tr>\n",
       "      <th>0</th>\n",
       "      <td>4.279887e+06</td>\n",
       "    </tr>\n",
       "    <tr>\n",
       "      <th>1</th>\n",
       "      <td>3.386301e+06</td>\n",
       "    </tr>\n",
       "    <tr>\n",
       "      <th>2</th>\n",
       "      <td>3.173654e+06</td>\n",
       "    </tr>\n",
       "    <tr>\n",
       "      <th>3</th>\n",
       "      <td>3.012497e+06</td>\n",
       "    </tr>\n",
       "    <tr>\n",
       "      <th>4</th>\n",
       "      <td>3.021679e+06</td>\n",
       "    </tr>\n",
       "  </tbody>\n",
       "</table>\n",
       "</div>"
      ],
      "text/plain": [
       "     Prediction\n",
       "0  4.279887e+06\n",
       "1  3.386301e+06\n",
       "2  3.173654e+06\n",
       "3  3.012497e+06\n",
       "4  3.021679e+06"
      ]
     },
     "execution_count": 42,
     "metadata": {},
     "output_type": "execute_result"
    }
   ],
   "source": [
    "df_preds = pd.DataFrame(columns=['Prediction'],index=X_test.index, data=np.square(np.exp(predict(models, X_test))))\n",
    "# df_preds.to_csv('submission4.csv', index=True, index_label='Id')\n",
    "df_preds.head()"
   ]
  },
  {
   "cell_type": "markdown",
   "metadata": {},
   "source": [
    "### RMSE 1.71 M (Rank 1)"
   ]
  },
  {
   "cell_type": "markdown",
   "metadata": {},
   "source": [
    "## 删除City Group列"
   ]
  },
  {
   "cell_type": "code",
   "execution_count": 43,
   "metadata": {},
   "outputs": [],
   "source": [
    "X_train, X_test = prcs(df_joined.copy(), fe=['id', 'dummies', 'city', 'city_group'])\n",
    "\n",
    "# Doble transformación para que la distribución sea Normal\n",
    "y_train = df_train['revenue'].copy().apply(np.sqrt).apply(np.log)"
   ]
  },
  {
   "cell_type": "code",
   "execution_count": 44,
   "metadata": {},
   "outputs": [
    {
     "name": "stdout",
     "output_type": "stream",
     "text": [
      "[1.19341202e+06 8.77959846e-01 2.42164920e+06 1.31847341e-01]\n"
     ]
    }
   ],
   "source": [
    "models, scores = train_cv(X_train, y_train)\n",
    "print(scores)"
   ]
  },
  {
   "cell_type": "code",
   "execution_count": 46,
   "metadata": {},
   "outputs": [
    {
     "data": {
      "text/html": [
       "<div>\n",
       "<style scoped>\n",
       "    .dataframe tbody tr th:only-of-type {\n",
       "        vertical-align: middle;\n",
       "    }\n",
       "\n",
       "    .dataframe tbody tr th {\n",
       "        vertical-align: top;\n",
       "    }\n",
       "\n",
       "    .dataframe thead th {\n",
       "        text-align: right;\n",
       "    }\n",
       "</style>\n",
       "<table border=\"1\" class=\"dataframe\">\n",
       "  <thead>\n",
       "    <tr style=\"text-align: right;\">\n",
       "      <th></th>\n",
       "      <th>Prediction</th>\n",
       "    </tr>\n",
       "  </thead>\n",
       "  <tbody>\n",
       "    <tr>\n",
       "      <th>0</th>\n",
       "      <td>4.264507e+06</td>\n",
       "    </tr>\n",
       "    <tr>\n",
       "      <th>1</th>\n",
       "      <td>3.398174e+06</td>\n",
       "    </tr>\n",
       "    <tr>\n",
       "      <th>2</th>\n",
       "      <td>3.265276e+06</td>\n",
       "    </tr>\n",
       "    <tr>\n",
       "      <th>3</th>\n",
       "      <td>3.140421e+06</td>\n",
       "    </tr>\n",
       "    <tr>\n",
       "      <th>4</th>\n",
       "      <td>3.194095e+06</td>\n",
       "    </tr>\n",
       "  </tbody>\n",
       "</table>\n",
       "</div>"
      ],
      "text/plain": [
       "     Prediction\n",
       "0  4.264507e+06\n",
       "1  3.398174e+06\n",
       "2  3.265276e+06\n",
       "3  3.140421e+06\n",
       "4  3.194095e+06"
      ]
     },
     "execution_count": 46,
     "metadata": {},
     "output_type": "execute_result"
    }
   ],
   "source": [
    "df_preds = pd.DataFrame(columns=['Prediction'],index=X_test.index, data=np.square(np.exp(predict(models, X_test))))\n",
    "df_preds.to_csv('submission5.csv', index=True, index_label='Id')\n",
    "df_preds.head()"
   ]
  },
  {
   "cell_type": "code",
   "execution_count": null,
   "metadata": {},
   "outputs": [],
   "source": []
  }
 ],
 "metadata": {
  "kernelspec": {
   "display_name": "Python 3",
   "language": "python",
   "name": "python3"
  },
  "language_info": {
   "codemirror_mode": {
    "name": "ipython",
    "version": 3
   },
   "file_extension": ".py",
   "mimetype": "text/x-python",
   "name": "python",
   "nbconvert_exporter": "python",
   "pygments_lexer": "ipython3",
   "version": "3.6.1"
  }
 },
 "nbformat": 4,
 "nbformat_minor": 2
}
